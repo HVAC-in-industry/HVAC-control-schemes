{
 "cells": [
  {
   "cell_type": "markdown",
   "metadata": {},
   "source": [
    "\n",
    "<br>\n",
    "-------------------------------------------------------------------------------<br>\n",
    "Name:        V3<br>\n",
    "Purpose:     P-Control with prediction<br>\n",
    "Author:      Christian Buchholz, Marcus Vogt<br>\n",
    "Created:     01.12.2021<br>\n",
    "Copyright:   Chair of Sustainable Manufacturing and Life Cycle Engineering, Institute of Machine Tools and Production Technology, Technische UniversitÃ¤t Braunschweig, Langer Kamp 19b, 38106 Braunschweig, Germany<br>\n",
    "Licence:     MIT (see License)<br>\n",
    "-------------------------------------------------------------------------------<br>\n"
   ]
  },
  {
   "cell_type": "code",
   "execution_count": 1,
   "metadata": {},
   "outputs": [],
   "source": [
    "import numpy as np\n",
    "import pandas as pd\n",
    "import os\n",
    "from scipy.integrate import odeint\n",
    "import matplotlib.pyplot as plt\n",
    "import helpers.WetAirToolBox as WetAirToolBox\n",
    "import helpers.dataPreprocessing as dataPreprocessing\n",
    "from V2 import P_controller\n",
    "import V3"
   ]
  },
  {
   "cell_type": "code",
   "execution_count": 2,
   "metadata": {},
   "outputs": [
    {
     "data": {
      "image/png": "[encoded data removed]",
      "text/plain": [
       "<Figure size 432x288 with 1 Axes>"
      ]
     },
     "metadata": {
      "needs_background": "light"
     },
     "output_type": "display_data"
    }
   ],
   "source": [
    "dataPath = os.path.join(os.getcwd(), \"data\")\n",
    "data = pd.read_excel(os.path.join(dataPath, \"t_step300_kp-30000_Tf4000_u_massflow.xlsx\"), engine='openpyxl')\n",
    "moisture_load = pd.read_csv(os.path.join(dataPath, \"moisture_load.csv\"))\n",
    "\n",
    "T_TP_room_set = -60 # Dew point temperature of the supply air entering the room [°C]\n",
    "P = -100000 # Slope of the proportional controller\n",
    "t_step_controller = 300 # length of a time steps between two calculations of the manipulated variable [sec]\n",
    "t_step_Measurements_BLB = 60 # length of a time steps between two measurements of the state variables [sec]\n",
    "N = 7 # ength of the prediction horizon as number of time steps\n",
    "u_min = 1.63 # minimum value of manipulated variable / mass flow [kg/s]\n",
    "u_max = 3.55 # maximum value of manipulated variable / mass flow [kg/s]\n",
    "T_room_0 = 20 # initial value of temperatur in the room [°C]\n",
    "T_TP_room_0 = -50 # initial value of dew point temperatur in the room [°C]\n",
    "X_room_0 = WetAirToolBox.humidity_dewpoint2abs(T_room_0, T_TP_room_0) # initial value of humidity in the room [kg water / kg air]\n",
    "beta_CO2_room_0 = 350 # initial value of CO2-concentration in the room [ppm]\n",
    "\n",
    "CO2_in = data.beta_CO2_in\n",
    "CO2_in_prediction = dataPreprocessing.rescale_data(CO2_in, int((t_step_Measurements_BLB / t_step_controller) * len(CO2_in)))\n",
    "\n",
    "m_X_delta = moisture_load.moisture_load\n",
    "m_X_delta_prediction = dataPreprocessing.rescale_data(m_X_delta, int((t_step_Measurements_BLB / t_step_controller) * len(m_X_delta)))\n",
    "\n",
    "TemperatureIn_prediction = np.ones(1432)*20\n",
    "DewPointIn_set_prediction = np.ones(1432)*(-60)\n",
    "\n",
    "# This part is for testing the code. The control variable curve shown is based on sample curves of the state variables and there is no closed control loop.\n",
    "Range = 200\n",
    "t = np.arange(0, Range*t_step_controller, t_step_controller)\n",
    "fig, ax = plt.subplots()\n",
    "for i in range(Range):\n",
    "    if i == 0:\n",
    "        x0 = np.array([T_room_0, X_room_0, beta_CO2_room_0]).reshape(-1, 1)\n",
    "        u0 = V3.predictive_p_controller(i, u_min, u_max, x0, T_TP_room_set, N, t_step_controller, P, TemperatureIn_prediction, DewPointIn_set_prediction, m_X_delta_prediction, CO2_in_prediction)\n",
    "        ax.scatter(t[i], u0, color='blue')\n",
    "    else:\n",
    "        x0 = np.array([data.T_room[i], data.X_room[i], data.beta_CO2_room[i]]).reshape(-1, 1)\n",
    "        u0 = V3.predictive_p_controller(i, u_min, u_max, x0, T_TP_room_set, N, t_step_controller, P, TemperatureIn_prediction, DewPointIn_set_prediction, m_X_delta_prediction, CO2_in_prediction)\n",
    "        ax.scatter(t[i], u0, color='blue')\n",
    "\n",
    "ax.set_xlabel('time [s]')\n",
    "ax.set_ylabel('air mass flow [kg/s]')\n",
    "plt.show()\n",
    "\n"
   ]
  },
  {
   "cell_type": "code",
   "execution_count": null,
   "metadata": {},
   "outputs": [],
   "source": []
  }
 ],
 "metadata": {
  "kernelspec": {
   "display_name": "Python 3",
   "language": "python",
   "name": "python3"
  },
  "language_info": {
   "codemirror_mode": {
    "name": "ipython",
    "version": 3
   },
   "file_extension": ".py",
   "mimetype": "text/x-python",
   "name": "python",
   "nbconvert_exporter": "python",
   "pygments_lexer": "ipython3",
   "version": "3.8.8"
  }
 },
 "nbformat": 4,
 "nbformat_minor": 2
}
